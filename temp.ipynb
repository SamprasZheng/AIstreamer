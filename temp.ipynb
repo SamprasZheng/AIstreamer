{
 "cells": [
  {
   "cell_type": "code",
   "execution_count": null,
   "metadata": {},
   "outputs": [],
   "source": [
    "#更新 Python 代碼讀取這個 JSON\n",
    "import json\n",
    "import random\n",
    "\n",
    "# 讀取 JSON 關鍵字回應\n",
    "with open(\"keywords.json\", \"r\", encoding=\"utf-8\") as f:\n",
    "    KEYWORD_REPLIES = json.load(f)\n",
    "\n",
    "\n",
    "#snip\n",
    "\n",
    "\n",
    "async def check_keywords_and_reply(content):\n",
    "    for keyword, replies in KEYWORD_REPLIES.items():\n",
    "        if keyword in content.lower():\n",
    "            reply = random.choice(replies)  # 隨機選一個回應\n",
    "            await speak(reply)\n",
    "            return True\n",
    "    return False"
   ]
  },
  {
   "cell_type": "code",
   "execution_count": null,
   "metadata": {},
   "outputs": [],
   "source": [
    "async def check_keywords_and_reply(content):\n",
    "    for keyword, replies in KEYWORD_REPLIES.items():\n",
    "        if keyword in content.lower():\n",
    "            reply = random.choice(replies)  # p-random reply\n",
    "            await speak(reply)\n",
    "            return True\n",
    "    return False\n"
   ]
  },
  {
   "cell_type": "code",
   "execution_count": null,
   "metadata": {},
   "outputs": [],
   "source": [
    "    # async def event_message(self, message):\n",
    "    #     if message.echo:\n",
    "    #         return\n",
    "\n",
    "    #     user = message.author.name\n",
    "    #     content = message.content\n",
    "    #     print(f\"{user}: {content}\")\n",
    "\n",
    "    #     reply = chat_response(content)\n",
    "    #     print(f\"polkasharks: {reply}\")\n",
    "\n",
    "    #     await speak(reply)  # 播放語音\n",
    "\n",
    "    # async def event_message(self, message):\n",
    "    #     if message.echo:\n",
    "    #         return\n",
    "\n",
    "    #     user = message.author.name\n",
    "    #     content = message.content\n",
    "    #     print(f\"{user}: {content}\")\n",
    "\n",
    "    #     # 檢查是否有命中關鍵字\n",
    "    #     hit = await check_keywords_and_reply(content)\n",
    "    #     if hit:\n",
    "    #         return  # 如果有命中，就不用叫 GPT\n",
    "\n",
    "    #     # GPT 回應\n",
    "    #     reply = chat_response(content)\n",
    "    #     print(f\"polkasharks: {reply}\")\n",
    "    #     await speak(reply)\n"
   ]
  }
 ],
 "metadata": {
  "kernelspec": {
   "display_name": "Python 3",
   "language": "python",
   "name": "python3"
  },
  "language_info": {
   "codemirror_mode": {
    "name": "ipython",
    "version": 3
   },
   "file_extension": ".py",
   "mimetype": "text/x-python",
   "name": "python",
   "nbconvert_exporter": "python",
   "pygments_lexer": "ipython3",
   "version": "3.12.9"
  }
 },
 "nbformat": 4,
 "nbformat_minor": 2
}
